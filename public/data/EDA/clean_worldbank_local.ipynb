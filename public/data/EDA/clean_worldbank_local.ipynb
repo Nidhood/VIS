{
 "cells": [
  {
   "cell_type": "markdown",
   "id": "78b0d060",
   "metadata": {},
   "source": [
    "# Limpieza in-place — World Bank (local)\n",
    "Si existe `worldbank_sample.csv` (ancho), lo convierte a largo y lo guarda como `worldbank_tidy.csv`.\n",
    "Si ya existe `worldbank_tidy.csv`, lo limpia in-place."
   ]
  },
  {
   "cell_type": "code",
   "id": "e75a78a1",
   "metadata": {
    "ExecuteTime": {
     "end_time": "2025-10-20T19:13:22.896457Z",
     "start_time": "2025-10-20T19:13:22.671957Z"
    }
   },
   "source": [
    "import pandas as pd, numpy as np, os, re\n",
    "from pathlib import Path\n",
    "CANDIDATES = ['worldbank_tidy.csv','worldbank_sample.csv']\n",
    "target = None\n",
    "for name in CANDIDATES:\n",
    "    if os.path.isfile(name):\n",
    "        target = name\n",
    "        break\n",
    "if target is None:\n",
    "    raise FileNotFoundError('No se encontró worldbank_tidy.csv ni worldbank_sample.csv en este directorio.')\n",
    "def normalizar_decimales(df, cols):\n",
    "    for c in cols:\n",
    "        if c in df.columns:\n",
    "            df[c] = (\n",
    "                df[c].astype(str)\n",
    "                .str.replace(r'[^0-9eE.,\\-]', '', regex=True)\n",
    "                .str.replace(',', '.', regex=False)\n",
    "            )\n",
    "            df[c] = pd.to_numeric(df[c], errors='coerce')\n",
    "    return df\n",
    "df = pd.read_csv(target)\n",
    "year_like = [c for c in df.columns if re.search(r'(19|20)\\d{2} \\[YR\\d{4}\\]', str(c))]\n",
    "if year_like:\n",
    "    df.columns = [c.strip() for c in df.columns]\n",
    "    id_cols = [c for c in df.columns if ('Country' in c or 'Series' in c)]\n",
    "    tidy = df.melt(id_vars=id_cols, value_vars=year_like, var_name='YearLabel', value_name='Value')\n",
    "    tidy['Year'] = tidy['YearLabel'].str.extract(r'((?:19|20)\\d{2})').astype(float)\n",
    "    tidy = tidy.rename(columns={\n",
    "        'Country Name':'country_name','Country Code':'country_code',\n",
    "        'Series Name':'series_name','Series Code':'series_code'\n",
    "    })\n",
    "    tidy['value'] = tidy['Value']\n",
    "    tidy = tidy[['country_name','country_code','series_name','series_code','Year','value']]\n",
    "    tidy.columns = [c.lower() for c in tidy.columns]\n",
    "    tidy = normalizar_decimales(tidy, ['year','value'])\n",
    "    tidy = tidy.dropna(subset=['country_name','series_name','year','value']).copy()\n",
    "    tidy['year'] = tidy['year'].astype(int)\n",
    "    tidy.to_csv('worldbank_tidy.csv', index=False)\n",
    "    print('Generado → worldbank_tidy.csv')\n",
    "    tidy.describe(include='all')\n",
    "else:\n",
    "    df.columns = (\n",
    "        df.columns\n",
    "        .str.strip()\n",
    "        .str.replace(' ', '_')\n",
    "        .str.replace(r'[^0-9a-zA-Z_]', '', regex=True)\n",
    "        .str.lower()\n",
    "    )\n",
    "    df = normalizar_decimales(df, ['year','value'])\n",
    "    df = df.dropna(subset=['country_name','series_name','year','value']).copy()\n",
    "    df['year'] = df['year'].astype(int)\n",
    "    df.to_csv('worldbank_tidy.csv', index=False)\n",
    "    print('Limpio → worldbank_tidy.csv')\n",
    "    df.describe(include='all')\n"
   ],
   "outputs": [
    {
     "name": "stdout",
     "output_type": "stream",
     "text": [
      "Limpio → worldbank_tidy.csv\n"
     ]
    }
   ],
   "execution_count": 4
  },
  {
   "metadata": {
    "ExecuteTime": {
     "end_time": "2025-10-20T19:13:12.251494Z",
     "start_time": "2025-10-20T19:13:12.249657Z"
    }
   },
   "cell_type": "code",
   "source": "",
   "id": "b3d41e7715944b25",
   "outputs": [],
   "execution_count": null
  },
  {
   "metadata": {},
   "cell_type": "code",
   "outputs": [],
   "execution_count": null,
   "source": "",
   "id": "7701e668febb047a"
  }
 ],
 "metadata": {
  "kernelspec": {
   "name": "python3",
   "language": "python",
   "display_name": "Python 3 (ipykernel)"
  }
 },
 "nbformat": 4,
 "nbformat_minor": 5
}
